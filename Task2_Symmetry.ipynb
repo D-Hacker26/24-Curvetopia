{
  "nbformat": 4,
  "nbformat_minor": 0,
  "metadata": {
    "colab": {
      "provenance": []
    },
    "kernelspec": {
      "name": "python3",
      "display_name": "Python 3"
    },
    "language_info": {
      "name": "python"
    }
  },
  "cells": [
    {
      "cell_type": "code",
      "execution_count": 1,
      "metadata": {
        "id": "uXJ4LgBoc3-5"
      },
      "outputs": [],
      "source": [
        "import cv2\n",
        "import numpy as np\n",
        "import matplotlib.pyplot as plt"
      ]
    },
    {
      "cell_type": "code",
      "source": [
        "\n",
        "def preprocess_image(img):\n",
        "    # Apply Gaussian blur to reduce noise\n",
        "    blurred = cv2.GaussianBlur(img, (5, 5), 0)\n",
        "    # Apply adaptive thresholding to handle uneven lighting\n",
        "    thresh = cv2.adaptiveThreshold(blurred, 255, cv2.ADAPTIVE_THRESH_GAUSSIAN_C, cv2.THRESH_BINARY_INV, 11, 2)\n",
        "    return thresh\n"
      ],
      "metadata": {
        "id": "vbGs64gMc-Yb"
      },
      "execution_count": 4,
      "outputs": []
    },
    {
      "cell_type": "code",
      "source": [
        "def check_symmetry(img, angle, threshold=0.8):\n",
        "    height, width = img.shape\n",
        "    center = (width // 2, height // 2)\n",
        "\n",
        "    # Create rotation matrix\n",
        "    M = cv2.getRotationMatrix2D(center, angle, 1.0)\n",
        "\n",
        "    # Rotate image\n",
        "    rotated = cv2.warpAffine(img, M, (width, height), flags=cv2.INTER_NEAREST)\n",
        "\n",
        "    # Split the rotated image\n",
        "    left = rotated[:, :width//2]\n",
        "    right = rotated[:, width//2:]\n",
        "    right_flipped = cv2.flip(right, 1)\n",
        "\n",
        "    # Calculate similarity\n",
        "    diff = cv2.absdiff(left, right_flipped)\n",
        "    similarity = 1 - (np.sum(diff) / (width * height * 255))\n",
        "\n",
        "    return similarity > threshold"
      ],
      "metadata": {
        "id": "-gKBYql2dHDt"
      },
      "execution_count": 5,
      "outputs": []
    },
    {
      "cell_type": "code",
      "source": [
        "def find_symmetries(image_path, angle_step=2, threshold=0.95):\n",
        "    # Read and preprocess the image\n",
        "    img = cv2.imread(image_path, cv2.IMREAD_GRAYSCALE)\n",
        "    img = preprocess_image(img)\n",
        "\n",
        "    symmetries = []\n",
        "    for angle in range(0, 180, angle_step):\n",
        "        if check_symmetry(img, angle, threshold):\n",
        "            symmetries.append(angle)\n",
        "\n",
        "    return symmetries"
      ],
      "metadata": {
        "id": "0wTlaZcmdK6f"
      },
      "execution_count": 6,
      "outputs": []
    },
    {
      "cell_type": "code",
      "source": [
        "def plot_symmetries(image_path, symmetries):\n",
        "    img = cv2.imread(image_path, cv2.IMREAD_GRAYSCALE)\n",
        "    height, width = img.shape\n",
        "    center = (width // 2, height // 2)\n",
        "\n",
        "    plt.figure(figsize=(12, 10))\n",
        "    plt.imshow(img, cmap='gray')\n",
        "\n",
        "    for angle in symmetries:\n",
        "        # Calculate end points of the line\n",
        "        rho = max(width, height)\n",
        "        a = np.cos(np.radians(angle))\n",
        "        b = np.sin(np.radians(angle))\n",
        "        x0 = a * rho + center[0]\n",
        "        y0 = b * rho + center[1]\n",
        "        x1 = -a * rho + center[0]\n",
        "        y1 = -b * rho + center[1]\n",
        "\n",
        "        plt.plot([x0, x1], [y0, y1], color='r', linestyle='--', label=f'Symmetry at {angle}°')\n",
        "\n",
        "    plt.title(f'Hand-drawn Image with Detected Symmetry Axes (Total: {len(symmetries)})')\n",
        "    plt.xlabel('X-axis')\n",
        "    plt.ylabel('Y-axis')\n",
        "    plt.legend(bbox_to_anchor=(1.05, 1), loc='upper left')\n",
        "    plt.tight_layout()\n",
        "    plt.show()"
      ],
      "metadata": {
        "id": "twIxlcRJdOof"
      },
      "execution_count": 7,
      "outputs": []
    },
    {
      "cell_type": "code",
      "source": [
        "# Example usage\n",
        "image_path = '/content/bee6.png'\n",
        "symmetries = find_symmetries(image_path)\n",
        "print(f\"Number of symmetries found: {len(symmetries)}\")\n",
        "for angle in symmetries:\n",
        "    print(f\"Symmetry found at angle: {angle}°\")\n",
        "\n",
        "plot_symmetries(image_path, symmetries)"
      ],
      "metadata": {
        "id": "MDiyGFSIdgeK"
      },
      "execution_count": null,
      "outputs": []
    },
    {
      "cell_type": "code",
      "source": [],
      "metadata": {
        "id": "JhmCdCQddSPs"
      },
      "execution_count": null,
      "outputs": []
    }
  ]
}